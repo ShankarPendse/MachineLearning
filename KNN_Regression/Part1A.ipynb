{
 "cells": [
  {
   "cell_type": "code",
   "execution_count": 1,
   "metadata": {},
   "outputs": [],
   "source": [
    "import numpy as np\n",
    "import time"
   ]
  },
  {
   "cell_type": "code",
   "execution_count": 2,
   "metadata": {},
   "outputs": [],
   "source": [
    "# Reading the train and test data\n",
    "train_data = np.genfromtxt('Regression/trainingData.csv', delimiter = \",\")\n",
    "test_data = np.genfromtxt('Regression/testData.csv', delimiter = \",\")"
   ]
  },
  {
   "cell_type": "code",
   "execution_count": 3,
   "metadata": {},
   "outputs": [],
   "source": [
    "# calculates and returns the euclidean distance between 1 query instance and all of the training instances\n",
    "def calculate_distances(training_features, query_features):\n",
    "    return np.sqrt(np.sum(np.square(query_features - training_features), axis = 1))"
   ]
  },
  {
   "cell_type": "code",
   "execution_count": 10,
   "metadata": {},
   "outputs": [],
   "source": [
    "def predict(training_features, query_features):\n",
    "    ''' training_features is a 2D numpy array, query_features is a single row from test data (1D numpy array)\n",
    "        \n",
    "            1) This function will first call calculate_distances to get the distance between a query instance\n",
    "            and all of the training feature instances\n",
    "            2) Select 3 nearest training feature instances (as 3 nearest neighbours)\n",
    "            3) Calculate the average of the target feature of selected 3 neighbours with weights assigned to them as \n",
    "               (1/distance), where distance is the euclidean distance returned by calculate_distnaces function\n",
    "            4) Return the calculated average as the predicted target value for the query instance'''\n",
    "    \n",
    "    distances = calculate_distances(training_features, query_features)\n",
    "    \n",
    "    # Set the number of nearest neighbours to consider\n",
    "    k = 3 # We can paramterize this so that while calling this function, value of K can be passed as an argument\n",
    "    \n",
    "    # use np.argsort to get the indices of the values in sorted order\n",
    "    indices = np.argsort(distances)\n",
    "    \n",
    "    # average the 3 nearest disances\n",
    "    # predicted_value = np.mean(train_data[indices[0:k],-1])\n",
    "    \n",
    "    # Inverse distance weighted average of 3 nearest neighbours\n",
    "    predicted_value = np.sum(train_data[indices[0:k],-1] * (1/(distances[indices[0:k]]))) / np.sum((1/(distances[indices[0:k]])))\n",
    "    \n",
    "    # squared Inverse distance weighted average of 3 nearest neighbours\n",
    "    # predicted_value = np.sum(train_data[indices[0:k],-1] * np.square(1/(distances[indices[0:k]]))) / np.sum(np.square(1/(distances[indices[0:k]])))\n",
    "    \n",
    "    return predicted_value"
   ]
  },
  {
   "cell_type": "code",
   "execution_count": 11,
   "metadata": {},
   "outputs": [],
   "source": [
    "def calculate_r2(actual_target_values, predicted_target_values):\n",
    "    ''' This function takes the actual target values and predicted target values as arguments,\n",
    "        returns the R squared score'''\n",
    "    \n",
    "    sum_squared_residuals = np.sum(\n",
    "                                   np.square(predicted_target_values - actual_target_values)\n",
    "                                  )\n",
    "    \n",
    "    sum_squares = np.sum(\n",
    "                         np.square(np.mean(actual_target_values) - actual_target_values)\n",
    "                        )\n",
    "    \n",
    "    r2 = 1 - (sum_squared_residuals/sum_squares)\n",
    "    return r2"
   ]
  },
  {
   "cell_type": "code",
   "execution_count": 12,
   "metadata": {},
   "outputs": [
    {
     "name": "stdout",
     "output_type": "stream",
     "text": [
      "R2 Score is:  0.8185732982178427\n",
      "KNN Regression completed in 2.953125 seconds\n"
     ]
    }
   ],
   "source": [
    "start_time = time.process_time()\n",
    "\n",
    "# list to append the predicted values for all of the test data\n",
    "predictions = []\n",
    "\n",
    "for i in range(len(test_data)):\n",
    "    predicted_value = predict(train_data[:,0:-1], test_data[i,0:-1])\n",
    "    predictions.append(predicted_value)\n",
    "\n",
    "r2_score = calculate_r2(test_data[:,-1], np.array(predictions))\n",
    "\n",
    "end_time = time.process_time()\n",
    "\n",
    "print(\"R2 Score is: \", r2_score)\n",
    "print(\"KNN Regression completed in {} seconds\".format(end_time - start_time))"
   ]
  }
 ],
 "metadata": {
  "kernelspec": {
   "display_name": "Python 3",
   "language": "python",
   "name": "python3"
  },
  "language_info": {
   "codemirror_mode": {
    "name": "ipython",
    "version": 3
   },
   "file_extension": ".py",
   "mimetype": "text/x-python",
   "name": "python",
   "nbconvert_exporter": "python",
   "pygments_lexer": "ipython3",
   "version": "3.7.8"
  }
 },
 "nbformat": 4,
 "nbformat_minor": 4
}
